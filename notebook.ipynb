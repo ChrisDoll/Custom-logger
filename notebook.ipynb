{
 "cells": [
  {
   "cell_type": "code",
   "execution_count": 29,
   "metadata": {},
   "outputs": [
    {
     "name": "stdout",
     "output_type": "stream",
     "text": [
      "Total runtime : 0.3 minutes\n",
      "__main__ : 0.0 minutes\n",
      "Candidate_scraper : 0.0 minutes\n",
      "Job_scraper\n",
      "  Total_runtime : 0.2 minutes\n",
      "  Entries\n",
      "    Startup : 0.0 minutes\n",
      "    Starting important work : 0.2 minutes\n",
      "Good_scraper : 0.0 minutes\n"
     ]
    }
   ],
   "source": [
    "import json\n",
    "\n",
    "with open(\"report_runtime.json\", \"r\") as file:\n",
    "    # Printing each line as string without syntax\n",
    "    \n",
    "        data = json.load(file)\n",
    "\n",
    "def print_json(data, indent=0):\n",
    "    for key, value in data.items():\n",
    "        if isinstance(value, dict):\n",
    "            print('  ' * indent + str(key))\n",
    "            print_json(value, indent+1)\n",
    "        else:\n",
    "            print('  ' * indent + str(key) + ' : ' + str(value))\n",
    "\n",
    "\n",
    "print_json(data)"
   ]
  }
 ],
 "metadata": {
  "kernelspec": {
   "display_name": "Python 3",
   "language": "python",
   "name": "python3"
  },
  "language_info": {
   "codemirror_mode": {
    "name": "ipython",
    "version": 3
   },
   "file_extension": ".py",
   "mimetype": "text/x-python",
   "name": "python",
   "nbconvert_exporter": "python",
   "pygments_lexer": "ipython3",
   "version": "3.12.0"
  }
 },
 "nbformat": 4,
 "nbformat_minor": 2
}
